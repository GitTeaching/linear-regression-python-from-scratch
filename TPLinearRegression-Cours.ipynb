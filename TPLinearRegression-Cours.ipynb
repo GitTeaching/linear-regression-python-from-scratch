{
 "cells": [
  {
   "cell_type": "markdown",
   "metadata": {},
   "source": [
    "### Simple Linear Regression from Scratch"
   ]
  },
  {
   "cell_type": "code",
   "execution_count": 1,
   "metadata": {},
   "outputs": [],
   "source": [
    "# Define the dataset\n",
    "dataset = [[6, 82], [10, 88], [2, 56], [4, 64], [6, 77], [7, 92], [0, 23], [1, 41], [8, 80], [5, 59], [3, 47], \n",
    "           [6, 82], [10, 88], [2, 56], [4, 64], [6, 77], [7, 92], [0, 23], [1, 41], [8, 80], [5, 59], [3, 47]]"
   ]
  },
  {
   "cell_type": "code",
   "execution_count": 2,
   "metadata": {},
   "outputs": [],
   "source": [
    "# Function to Split a dataset into a train set and a test set\n",
    "def train_test_split(dataset, split):\n",
    "\ttrain_size = split * len(dataset)\n",
    "\ttrain = [dataset[i][0:2] for i in range(0, int(train_size))]\n",
    "\ttest = [dataset[i][0:2] for i in range(int(train_size), len(dataset))]\n",
    "\treturn train, test"
   ]
  },
  {
   "cell_type": "code",
   "execution_count": 3,
   "metadata": {},
   "outputs": [
    {
     "name": "stdout",
     "output_type": "stream",
     "text": [
      "[[6, 82], [10, 88], [2, 56], [4, 64], [6, 77], [7, 92], [0, 23], [1, 41], [8, 80], [5, 59], [3, 47]] [[6, 82], [10, 88], [2, 56], [4, 64], [6, 77], [7, 92], [0, 23], [1, 41], [8, 80], [5, 59], [3, 47]]\n",
      "[6, 10, 2, 4, 6, 7, 0, 1, 8, 5, 3] [82, 88, 56, 64, 77, 92, 23, 41, 80, 59, 47]\n"
     ]
    }
   ],
   "source": [
    "# Split dataset into 50% train and 50% test\n",
    "train, test = train_test_split(dataset, split=0.5)\n",
    "print(train, test)\n",
    "\n",
    "x = [row[0] for row in train]\n",
    "y = [row[1] for row in train]\n",
    "print(x, y)"
   ]
  },
  {
   "cell_type": "code",
   "execution_count": 4,
   "metadata": {},
   "outputs": [
    {
     "data": {
      "text/plain": [
       "Text(0, 0.5, 'Note obtenue')"
      ]
     },
     "execution_count": 4,
     "metadata": {},
     "output_type": "execute_result"
    },
    {
     "data": {
      "image/png": "[encoded data removed]",
      "text/plain": [
       "<Figure size 432x288 with 1 Axes>"
      ]
     },
     "metadata": {
      "needs_background": "light"
     },
     "output_type": "display_data"
    }
   ],
   "source": [
    "from matplotlib import pyplot as plt\n",
    "%matplotlib inline\n",
    "\n",
    "# plot train set datapoints\n",
    "plt.plot(x, y, 'bo')\n",
    "plt.xlabel('Nombre heures passées à réviser')\n",
    "plt.ylabel('Note obtenue')"
   ]
  },
  {
   "cell_type": "code",
   "execution_count": 5,
   "metadata": {},
   "outputs": [],
   "source": [
    "# Calculate the mean value of a list of numbers\n",
    "def mean(values):\n",
    "\treturn sum(values) / float(len(values))"
   ]
  },
  {
   "cell_type": "code",
   "execution_count": 6,
   "metadata": {},
   "outputs": [],
   "source": [
    "# Calculate the variance of a list of numbers\n",
    "def variance(values, mean):\n",
    "\treturn sum([(x-mean)**2 for x in values])"
   ]
  },
  {
   "cell_type": "code",
   "execution_count": 7,
   "metadata": {},
   "outputs": [],
   "source": [
    "# Calculate covariance between x and y\n",
    "def covariance(x, mean_x, y, mean_y):\n",
    "\tcovar = 0.0\n",
    "\tfor i in range(len(x)):\n",
    "\t\tcovar += (x[i] - mean_x) * (y[i] - mean_y)\n",
    "\treturn covar"
   ]
  },
  {
   "cell_type": "code",
   "execution_count": 8,
   "metadata": {},
   "outputs": [
    {
     "name": "stdout",
     "output_type": "stream",
     "text": [
      "x stats: mean=4.727 variance=94.182\n",
      "y stats: mean=64.455 variance=4694.727\n",
      "Covariance: 611.364\n"
     ]
    }
   ],
   "source": [
    "# calculate mean, variance, and covariance\n",
    "mean_x, mean_y = mean(x), mean(y)\n",
    "var_x, var_y = variance(x, mean_x), variance(y, mean_y)\n",
    "covar = covariance(x, mean_x, y, mean_y)\n",
    "print('x stats: mean=%.3f variance=%.3f' % (mean_x, var_x))\n",
    "print('y stats: mean=%.3f variance=%.3f' % (mean_y, var_y))\n",
    "print('Covariance: %.3f' % (covar))"
   ]
  },
  {
   "cell_type": "code",
   "execution_count": 9,
   "metadata": {},
   "outputs": [],
   "source": [
    "# Calculate coefficients b0 and b1\n",
    "def coefficients(dataset):\n",
    "\tx = [row[0] for row in dataset]\n",
    "\ty = [row[1] for row in dataset]\n",
    "\tx_mean, y_mean = mean(x), mean(y)\n",
    "\tb1 = covariance(x, x_mean, y, y_mean) / variance(x, x_mean)\n",
    "\tb0 = y_mean - b1 * x_mean\n",
    "\treturn [b0, b1]"
   ]
  },
  {
   "cell_type": "code",
   "execution_count": 10,
   "metadata": {},
   "outputs": [
    {
     "name": "stdout",
     "output_type": "stream",
     "text": [
      "Coefficients: B0=33.768, B1=6.491\n"
     ]
    }
   ],
   "source": [
    "# calculate coefficients on train set\n",
    "b0, b1 = coefficients(train)\n",
    "print('Coefficients: B0=%.3f, B1=%.3f' % (b0, b1))"
   ]
  },
  {
   "cell_type": "code",
   "execution_count": 11,
   "metadata": {},
   "outputs": [
    {
     "data": {
      "text/plain": [
       "Text(0, 0.5, 'Note obtenue')"
      ]
     },
     "execution_count": 11,
     "metadata": {},
     "output_type": "execute_result"
    },
    {
     "data": {
      "image/png": "[encoded data removed]",
      "text/plain": [
       "<Figure size 432x288 with 1 Axes>"
      ]
     },
     "metadata": {
      "needs_background": "light"
     },
     "output_type": "display_data"
    }
   ],
   "source": [
    "# plot train datapoints\n",
    "plt.plot(x, y, 'bo')\n",
    "\n",
    "# plot the regrssion line with coefficients b0 and b1\n",
    "x_values = [i for i in range(int(min(x))-1, int(max(x))+2)]\n",
    "y_values = [(b1*x + b0) for x in x_values]\n",
    "plt.plot(x_values, y_values, 'r')\n",
    "plt.xlabel('Nombre heures passées à réviser')\n",
    "plt.ylabel('Note obtenue')"
   ]
  },
  {
   "cell_type": "code",
   "execution_count": 12,
   "metadata": {},
   "outputs": [],
   "source": [
    "# make predictions\n",
    "def simple_linear_regression(train, test, b0, b1):\n",
    "\tpredictions = list()\n",
    "\tfor row in test:\n",
    "\t\tyhat = b0 + b1 * row[0]\n",
    "\t\tpredictions.append(yhat)\n",
    "\treturn predictions"
   ]
  },
  {
   "cell_type": "code",
   "execution_count": 13,
   "metadata": {},
   "outputs": [
    {
     "name": "stdout",
     "output_type": "stream",
     "text": [
      "[72.71621621621621, 98.68146718146717, 46.75096525096525, 59.73359073359073, 72.71621621621621, 79.20752895752895, 33.76833976833977, 40.25965250965251, 85.69884169884169, 66.22490347490347, 53.24227799227799]\n"
     ]
    }
   ],
   "source": [
    "# predicts on training set\n",
    "predictions = simple_linear_regression(train, test, b0, b1)\n",
    "print(predictions)"
   ]
  },
  {
   "cell_type": "code",
   "execution_count": 14,
   "metadata": {},
   "outputs": [
    {
     "data": {
      "text/plain": [
       "[<matplotlib.lines.Line2D at 0x7fea1993fc40>]"
      ]
     },
     "execution_count": 14,
     "metadata": {},
     "output_type": "execute_result"
    },
    {
     "data": {
      "image/png": "[encoded data removed]",
      "text/plain": [
       "<Figure size 432x288 with 1 Axes>"
      ]
     },
     "metadata": {
      "needs_background": "light"
     },
     "output_type": "display_data"
    }
   ],
   "source": [
    "# plot train datapoints - blue dots\n",
    "plt.plot(x, y, 'bo')\n",
    "\n",
    "# plot predictions datapoints - red x\n",
    "plt.plot(x, predictions, 'rx')"
   ]
  },
  {
   "cell_type": "code",
   "execution_count": 15,
   "metadata": {},
   "outputs": [
    {
     "data": {
      "text/plain": [
       "[<matplotlib.lines.Line2D at 0x7fea198a1ee0>]"
      ]
     },
     "execution_count": 15,
     "metadata": {},
     "output_type": "execute_result"
    },
    {
     "data": {
      "image/png": "[encoded data removed]",
      "text/plain": [
       "<Figure size 432x288 with 1 Axes>"
      ]
     },
     "metadata": {
      "needs_background": "light"
     },
     "output_type": "display_data"
    }
   ],
   "source": [
    "# plot train datapoints\n",
    "plt.plot(x, y, 'bo')\n",
    "\n",
    "# plot predictions datapoints\n",
    "plt.plot(x, predictions, 'rx')\n",
    "\n",
    "# plot the regrssion line with coefficients b0 and b1 - red line\n",
    "x_values = [i for i in range(int(min(x))-1, int(max(x))+2)]\n",
    "y_values = [(b1*x + b0) for x in x_values]\n",
    "plt.plot(x_values, y_values, 'r')"
   ]
  },
  {
   "cell_type": "code",
   "execution_count": 16,
   "metadata": {},
   "outputs": [],
   "source": [
    "# Calculate root mean squared error\n",
    "from math import sqrt\n",
    "def rmse_metric(actual, predicted):\n",
    "\tsum_error = 0.0\n",
    "\tfor i in range(len(actual)):\n",
    "\t\tprediction_error = predicted[i] - actual[i]\n",
    "\t\tsum_error += (prediction_error ** 2)\n",
    "\tmean_error = sum_error / float(len(actual))\n",
    "\treturn sqrt(mean_error)"
   ]
  },
  {
   "cell_type": "code",
   "execution_count": 17,
   "metadata": {},
   "outputs": [],
   "source": [
    "# Evaluate regression algorithm on training dataset\n",
    "def evaluate_algorithm(dataset, algorithm, b0, b1):\n",
    "\ttest_set = list()\n",
    "\tfor row in dataset:\n",
    "\t\trow_copy = list(row)\n",
    "\t\trow_copy[-1] = None\n",
    "\t\ttest_set.append(row_copy)\n",
    "\tpredicted = algorithm(dataset, test_set, b0, b1)\n",
    "\tprint(predicted)\n",
    "\tactual = [row[-1] for row in dataset]\n",
    "\trmse = rmse_metric(actual, predicted)\n",
    "\treturn rmse"
   ]
  },
  {
   "cell_type": "code",
   "execution_count": 18,
   "metadata": {},
   "outputs": [
    {
     "name": "stdout",
     "output_type": "stream",
     "text": [
      "[72.71621621621621, 98.68146718146717, 46.75096525096525, 59.73359073359073, 72.71621621621621, 79.20752895752895, 33.76833976833977, 40.25965250965251, 85.69884169884169, 66.22490347490347, 53.24227799227799]\n",
      "RMSE: 8.125\n"
     ]
    }
   ],
   "source": [
    "# Test simple linear regression\n",
    "rmse = evaluate_algorithm(train, simple_linear_regression, b0, b1)\n",
    "print('RMSE: %.3f' % (rmse))"
   ]
  },
  {
   "cell_type": "markdown",
   "metadata": {},
   "source": [
    "### Linear Regression with Gradient Descent from scratch"
   ]
  },
  {
   "cell_type": "code",
   "execution_count": 19,
   "metadata": {},
   "outputs": [
    {
     "data": {
      "text/plain": [
       "([6, 10, 2, 4, 6, 7, 0, 1, 8, 5, 3],\n",
       " [82, 88, 56, 64, 77, 92, 23, 41, 80, 59, 47])"
      ]
     },
     "execution_count": 19,
     "metadata": {},
     "output_type": "execute_result"
    }
   ],
   "source": [
    "x, y"
   ]
  },
  {
   "cell_type": "code",
   "execution_count": 20,
   "metadata": {},
   "outputs": [],
   "source": [
    "# Convert x list into numpy array\n",
    "import numpy as np\n",
    "X = np.asarray(x, dtype=np.float64)"
   ]
  },
  {
   "cell_type": "code",
   "execution_count": 21,
   "metadata": {
    "scrolled": true
   },
   "outputs": [
    {
     "name": "stdout",
     "output_type": "stream",
     "text": [
      ">epoch=0, lrate=0.010, m=7.205455, c=1.289091\n",
      ">epoch=1, lrate=0.010, m=9.834750, c=1.871157\n",
      ">epoch=2, lrate=0.010, m=10.783632, c=2.192994\n",
      ">epoch=3, lrate=0.010, m=11.115504, c=2.418682\n",
      ">epoch=4, lrate=0.010, m=11.220881, c=2.608478\n",
      ">epoch=5, lrate=0.010, m=11.243171, c=2.784517\n",
      ">epoch=6, lrate=0.010, m=11.235038, c=2.954926\n",
      ">epoch=7, lrate=0.010, m=11.215822, c=3.122697\n",
      ">epoch=8, lrate=0.010, m=11.192622, c=3.288929\n",
      ">epoch=9, lrate=0.010, m=11.168048, c=3.454030\n",
      ">epoch=10, lrate=0.010, m=11.143055, c=3.618152\n",
      ">epoch=11, lrate=0.010, m=11.117996, c=3.781355\n",
      ">epoch=12, lrate=0.010, m=11.092998, c=3.943662\n",
      ">epoch=13, lrate=0.010, m=11.068107, c=4.105088\n",
      ">epoch=14, lrate=0.010, m=11.043342, c=4.265637\n",
      ">epoch=15, lrate=0.010, m=11.018707, c=4.425318\n",
      ">epoch=16, lrate=0.010, m=10.994203, c=4.584134\n",
      ">epoch=17, lrate=0.010, m=10.969832, c=4.742090\n",
      ">epoch=18, lrate=0.010, m=10.945593, c=4.899191\n",
      ">epoch=19, lrate=0.010, m=10.921485, c=5.055442\n",
      ">epoch=20, lrate=0.010, m=10.897507, c=5.210848\n",
      ">epoch=21, lrate=0.010, m=10.873659, c=5.365412\n",
      ">epoch=22, lrate=0.010, m=10.849940, c=5.519140\n",
      ">epoch=23, lrate=0.010, m=10.826349, c=5.672035\n",
      ">epoch=24, lrate=0.010, m=10.802886, c=5.824103\n",
      ">epoch=25, lrate=0.010, m=10.779550, c=5.975348\n",
      ">epoch=26, lrate=0.010, m=10.756341, c=6.125775\n",
      ">epoch=27, lrate=0.010, m=10.733257, c=6.275387\n",
      ">epoch=28, lrate=0.010, m=10.710298, c=6.424190\n",
      ">epoch=29, lrate=0.010, m=10.687463, c=6.572187\n",
      ">epoch=30, lrate=0.010, m=10.664752, c=6.719383\n",
      ">epoch=31, lrate=0.010, m=10.642164, c=6.865782\n",
      ">epoch=32, lrate=0.010, m=10.619698, c=7.011389\n",
      ">epoch=33, lrate=0.010, m=10.597353, c=7.156208\n",
      ">epoch=34, lrate=0.010, m=10.575130, c=7.300243\n",
      ">epoch=35, lrate=0.010, m=10.553027, c=7.443499\n",
      ">epoch=36, lrate=0.010, m=10.531043, c=7.585979\n",
      ">epoch=37, lrate=0.010, m=10.509178, c=7.727688\n",
      ">epoch=38, lrate=0.010, m=10.487432, c=7.868631\n",
      ">epoch=39, lrate=0.010, m=10.465804, c=8.008810\n",
      ">epoch=40, lrate=0.010, m=10.444292, c=8.148230\n",
      ">epoch=41, lrate=0.010, m=10.422897, c=8.286896\n",
      ">epoch=42, lrate=0.010, m=10.401618, c=8.424812\n",
      ">epoch=43, lrate=0.010, m=10.380454, c=8.561981\n",
      ">epoch=44, lrate=0.010, m=10.359404, c=8.698407\n",
      ">epoch=45, lrate=0.010, m=10.338469, c=8.834096\n",
      ">epoch=46, lrate=0.010, m=10.317646, c=8.969049\n",
      ">epoch=47, lrate=0.010, m=10.296937, c=9.103273\n",
      ">epoch=48, lrate=0.010, m=10.276339, c=9.236770\n",
      ">epoch=49, lrate=0.010, m=10.255853, c=9.369544\n",
      "10.255853083193607 9.36954394071522\n"
     ]
    }
   ],
   "source": [
    "# Building the model\n",
    "\n",
    "# init coefficients m (=b1) and c (=b0) to 0\n",
    "m = 0\n",
    "c = 0\n",
    "\n",
    "# initialize learning rate L and number of epochs (iterations to perform gradient descent)\n",
    "L = 0.01  #0.01\n",
    "epochs = 50  #1000\n",
    "\n",
    "# Number of elements in X\n",
    "n = float(len(x)) \n",
    "\n",
    "# Performing Gradient Descent \n",
    "for i in range(epochs): \n",
    "    #Y_pred =  c + m * row[0]\n",
    "    Y_pred = m*X + c  # The current predicted value of Y\n",
    "    D_m = (-2/n) * sum(x * (y - Y_pred))  # Derivative wrt m\n",
    "    D_c = (-2/n) * sum(y - Y_pred)  # Derivative wrt c\n",
    "    m = m - L * D_m  # Update m\n",
    "    c = c - L * D_c  # Update c\n",
    "    print('>epoch=%d, lrate=%.3f, m=%f, c=%f' % (i, L, m, c))\n",
    "    \n",
    "print (m, c)"
   ]
  },
  {
   "cell_type": "code",
   "execution_count": 22,
   "metadata": {},
   "outputs": [
    {
     "name": "stdout",
     "output_type": "stream",
     "text": [
      "[70.90466243987686, 111.92807477265129, 29.88125010710243, 50.392956273489645, 70.90466243987686, 81.16051552307046, 9.36954394071522, 19.625397023908825, 91.41636860626407, 60.64880935668325, 40.13710319029604]\n"
     ]
    }
   ],
   "source": [
    "# predicts on training set\n",
    "predictions_gd = simple_linear_regression(train, test, c, m)\n",
    "print(predictions_gd)"
   ]
  },
  {
   "cell_type": "code",
   "execution_count": 23,
   "metadata": {},
   "outputs": [
    {
     "data": {
      "text/plain": [
       "[<matplotlib.lines.Line2D at 0x7fea19886e80>]"
      ]
     },
     "execution_count": 23,
     "metadata": {},
     "output_type": "execute_result"
    },
    {
     "data": {
      "image/png": "[encoded data removed]",
      "text/plain": [
       "<Figure size 432x288 with 1 Axes>"
      ]
     },
     "metadata": {
      "needs_background": "light"
     },
     "output_type": "display_data"
    }
   ],
   "source": [
    "# plot train datapoints\n",
    "plt.plot(x, y, 'bo')\n",
    "\n",
    "# plot predictions datapoints\n",
    "plt.plot(x, predictions_gd, 'bx')\n",
    "\n",
    "# plot the simple regrssion line with coefficients b0 and b1\n",
    "x_values = [i for i in range(int(min(x))-1, int(max(x))+2)]\n",
    "y_values = [(b1*x + b0) for x in x_values]\n",
    "plt.plot(x_values, y_values, 'r')\n",
    "\n",
    "# plot the gradient decent regrssion line with coefficients c and m - black line\n",
    "x_values = [i for i in range(int(min(x))-1, int(max(x))+2)]\n",
    "y_values = [(m*x + c) for x in x_values]\n",
    "plt.plot(x_values, y_values, 'black')"
   ]
  },
  {
   "cell_type": "code",
   "execution_count": 24,
   "metadata": {},
   "outputs": [
    {
     "name": "stdout",
     "output_type": "stream",
     "text": [
      "[70.90466243987686, 111.92807477265129, 29.88125010710243, 50.392956273489645, 70.90466243987686, 81.16051552307046, 9.36954394071522, 19.625397023908825, 91.41636860626407, 60.64880935668325, 40.13710319029604]\n",
      "RMSE: 15.197\n"
     ]
    }
   ],
   "source": [
    "# Test simple linear regression\n",
    "rmse = evaluate_algorithm(train, simple_linear_regression, c, m)\n",
    "print('RMSE: %.3f' % (rmse))"
   ]
  },
  {
   "cell_type": "markdown",
   "metadata": {},
   "source": [
    "#### Ref 1 : https://machinelearningmastery.com/implement-simple-linear-regression-scratch-python/\n",
    "#### Ref 2 : https://machinelearningmastery.com/implement-linear-regression-stochastic-gradient-descent-scratch-python/\n",
    "#### Ref 3 : https://towardsdatascience.com/linear-regression-using-gradient-descent-97a6c8700931"
   ]
  }
 ],
 "metadata": {
  "kernelspec": {
   "display_name": "Python 3",
   "language": "python",
   "name": "python3"
  },
  "language_info": {
   "codemirror_mode": {
    "name": "ipython",
    "version": 3
   },
   "file_extension": ".py",
   "mimetype": "text/x-python",
   "name": "python",
   "nbconvert_exporter": "python",
   "pygments_lexer": "ipython3",
   "version": "3.8.1"
  }
 },
 "nbformat": 4,
 "nbformat_minor": 4
}
