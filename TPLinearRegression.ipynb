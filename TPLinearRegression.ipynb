{
 "cells": [
  {
   "cell_type": "markdown",
   "metadata": {},
   "source": [
    "### Simple Linear Regression from Scratch"
   ]
  },
  {
   "cell_type": "code",
   "execution_count": 1,
   "metadata": {},
   "outputs": [],
   "source": [
    "# Define the dataset\n",
    "dataset = [[1, 1], [2, 3], [4, 3], [3, 2], [5, 5], [1, 1], [2, 3], [4, 3], [3, 2], [5, 5]]"
   ]
  },
  {
   "cell_type": "code",
   "execution_count": 2,
   "metadata": {},
   "outputs": [],
   "source": [
    "# Function to Split a dataset into a train set and a test set\n",
    "def train_test_split(dataset, split):\n",
    "\ttrain_size = split * len(dataset)\n",
    "\ttrain = [dataset[i][0:2] for i in range(0, int(train_size))]\n",
    "\ttest = [dataset[i][0:2] for i in range(int(train_size), len(dataset))]\n",
    "\treturn train, test"
   ]
  },
  {
   "cell_type": "code",
   "execution_count": 3,
   "metadata": {},
   "outputs": [
    {
     "name": "stdout",
     "output_type": "stream",
     "text": [
      "[[1, 1], [2, 3], [4, 3], [3, 2], [5, 5]] [[1, 1], [2, 3], [4, 3], [3, 2], [5, 5]]\n",
      "[1, 2, 4, 3, 5] [1, 3, 3, 2, 5]\n"
     ]
    }
   ],
   "source": [
    "# Split dataset into 50% train and 50% test\n",
    "train, test = train_test_split(dataset, split=0.5)\n",
    "print(train, test)\n",
    "\n",
    "x = [row[0] for row in train]\n",
    "y = [row[1] for row in train]\n",
    "print(x, y)"
   ]
  },
  {
   "cell_type": "code",
   "execution_count": 4,
   "metadata": {},
   "outputs": [
    {
     "data": {
      "text/plain": [
       "[<matplotlib.lines.Line2D at 0x7f88097e9c40>]"
      ]
     },
     "execution_count": 4,
     "metadata": {},
     "output_type": "execute_result"
    },
    {
     "data": {
      "image/png": "[encoded data removed]",
      "text/plain": [
       "<Figure size 432x288 with 1 Axes>"
      ]
     },
     "metadata": {
      "needs_background": "light"
     },
     "output_type": "display_data"
    }
   ],
   "source": [
    "from matplotlib import pyplot as plt\n",
    "%matplotlib inline\n",
    "\n",
    "# plot train set datapoints\n",
    "plt.plot(x, y, 'bo')"
   ]
  },
  {
   "cell_type": "code",
   "execution_count": 5,
   "metadata": {},
   "outputs": [],
   "source": [
    "# Calculate the mean value of a list of numbers\n",
    "def mean(values):\n",
    "\treturn sum(values) / float(len(values))"
   ]
  },
  {
   "cell_type": "code",
   "execution_count": 6,
   "metadata": {},
   "outputs": [],
   "source": [
    "# Calculate the variance of a list of numbers\n",
    "def variance(values, mean):\n",
    "\treturn sum([(x-mean)**2 for x in values])"
   ]
  },
  {
   "cell_type": "code",
   "execution_count": 7,
   "metadata": {},
   "outputs": [],
   "source": [
    "# Calculate covariance between x and y\n",
    "def covariance(x, mean_x, y, mean_y):\n",
    "\tcovar = 0.0\n",
    "\tfor i in range(len(x)):\n",
    "\t\tcovar += (x[i] - mean_x) * (y[i] - mean_y)\n",
    "\treturn covar"
   ]
  },
  {
   "cell_type": "code",
   "execution_count": 8,
   "metadata": {},
   "outputs": [
    {
     "name": "stdout",
     "output_type": "stream",
     "text": [
      "x stats: mean=3.000 variance=10.000\n",
      "y stats: mean=2.800 variance=8.800\n",
      "Covariance: 8.000\n"
     ]
    }
   ],
   "source": [
    "# calculate mean, variance, and covariance\n",
    "mean_x, mean_y = mean(x), mean(y)\n",
    "var_x, var_y = variance(x, mean_x), variance(y, mean_y)\n",
    "covar = covariance(x, mean_x, y, mean_y)\n",
    "print('x stats: mean=%.3f variance=%.3f' % (mean_x, var_x))\n",
    "print('y stats: mean=%.3f variance=%.3f' % (mean_y, var_y))\n",
    "print('Covariance: %.3f' % (covar))"
   ]
  },
  {
   "cell_type": "code",
   "execution_count": 9,
   "metadata": {},
   "outputs": [],
   "source": [
    "# Calculate coefficients b0 and b1\n",
    "def coefficients(dataset):\n",
    "\tx = [row[0] for row in dataset]\n",
    "\ty = [row[1] for row in dataset]\n",
    "\tx_mean, y_mean = mean(x), mean(y)\n",
    "\tb1 = covariance(x, x_mean, y, y_mean) / variance(x, x_mean)\n",
    "\tb0 = y_mean - b1 * x_mean\n",
    "\treturn [b0, b1]"
   ]
  },
  {
   "cell_type": "code",
   "execution_count": 10,
   "metadata": {},
   "outputs": [
    {
     "name": "stdout",
     "output_type": "stream",
     "text": [
      "Coefficients: B0=0.400, B1=0.800\n"
     ]
    }
   ],
   "source": [
    "# calculate coefficients on train set\n",
    "b0, b1 = coefficients(train)\n",
    "print('Coefficients: B0=%.3f, B1=%.3f' % (b0, b1))"
   ]
  },
  {
   "cell_type": "code",
   "execution_count": 11,
   "metadata": {},
   "outputs": [
    {
     "data": {
      "text/plain": [
       "[<matplotlib.lines.Line2D at 0x7f88092c7640>]"
      ]
     },
     "execution_count": 11,
     "metadata": {},
     "output_type": "execute_result"
    },
    {
     "data": {
      "image/png": "[encoded data removed]",
      "text/plain": [
       "<Figure size 432x288 with 1 Axes>"
      ]
     },
     "metadata": {
      "needs_background": "light"
     },
     "output_type": "display_data"
    }
   ],
   "source": [
    "# plot train datapoints\n",
    "plt.plot(x, y, 'bo')\n",
    "\n",
    "# plot the regrssion line with coefficients b0 and b1\n",
    "x_values = [i for i in range(int(min(x))-1, int(max(x))+2)]\n",
    "y_values = [(b1*x + b0) for x in x_values]\n",
    "plt.plot(x_values, y_values, 'r')"
   ]
  },
  {
   "cell_type": "code",
   "execution_count": 12,
   "metadata": {},
   "outputs": [],
   "source": [
    "# make predictions\n",
    "def simple_linear_regression(train, test, b0, b1):\n",
    "\tpredictions = list()\n",
    "\tfor row in test:\n",
    "\t\tyhat = b0 + b1 * row[0]\n",
    "\t\tpredictions.append(yhat)\n",
    "\treturn predictions"
   ]
  },
  {
   "cell_type": "code",
   "execution_count": 13,
   "metadata": {},
   "outputs": [
    {
     "name": "stdout",
     "output_type": "stream",
     "text": [
      "[1.1999999999999995, 1.9999999999999996, 3.5999999999999996, 2.8, 4.3999999999999995]\n"
     ]
    }
   ],
   "source": [
    "# predicts on training set\n",
    "predictions = simple_linear_regression(train, test, b0, b1)\n",
    "print(predictions)"
   ]
  },
  {
   "cell_type": "code",
   "execution_count": 14,
   "metadata": {},
   "outputs": [
    {
     "data": {
      "text/plain": [
       "[<matplotlib.lines.Line2D at 0x7f880929feb0>]"
      ]
     },
     "execution_count": 14,
     "metadata": {},
     "output_type": "execute_result"
    },
    {
     "data": {
      "image/png": "[encoded data removed]",
      "text/plain": [
       "<Figure size 432x288 with 1 Axes>"
      ]
     },
     "metadata": {
      "needs_background": "light"
     },
     "output_type": "display_data"
    }
   ],
   "source": [
    "# plot train datapoints - blue dots\n",
    "plt.plot(x, y, 'bo')\n",
    "\n",
    "# plot predictions datapoints - red x\n",
    "plt.plot(x, predictions, 'rx')"
   ]
  },
  {
   "cell_type": "code",
   "execution_count": 15,
   "metadata": {},
   "outputs": [
    {
     "data": {
      "text/plain": [
       "[<matplotlib.lines.Line2D at 0x7f880920d970>]"
      ]
     },
     "execution_count": 15,
     "metadata": {},
     "output_type": "execute_result"
    },
    {
     "data": {
      "image/png": "[encoded data removed]",
      "text/plain": [
       "<Figure size 432x288 with 1 Axes>"
      ]
     },
     "metadata": {
      "needs_background": "light"
     },
     "output_type": "display_data"
    }
   ],
   "source": [
    "# plot train datapoints\n",
    "plt.plot(x, y, 'bo')\n",
    "\n",
    "# plot predictions datapoints\n",
    "plt.plot(x, predictions, 'rx')\n",
    "\n",
    "# plot the regrssion line with coefficients b0 and b1 - red line\n",
    "x_values = [i for i in range(int(min(x))-1, int(max(x))+2)]\n",
    "y_values = [(b1*x + b0) for x in x_values]\n",
    "plt.plot(x_values, y_values, 'r')"
   ]
  },
  {
   "cell_type": "code",
   "execution_count": 16,
   "metadata": {},
   "outputs": [],
   "source": [
    "# Calculate root mean squared error\n",
    "from math import sqrt\n",
    "def rmse_metric(actual, predicted):\n",
    "\tsum_error = 0.0\n",
    "\tfor i in range(len(actual)):\n",
    "\t\tprediction_error = predicted[i] - actual[i]\n",
    "\t\tsum_error += (prediction_error ** 2)\n",
    "\tmean_error = sum_error / float(len(actual))\n",
    "\treturn sqrt(mean_error)"
   ]
  },
  {
   "cell_type": "code",
   "execution_count": 17,
   "metadata": {},
   "outputs": [],
   "source": [
    "# Evaluate regression algorithm on training dataset\n",
    "def evaluate_algorithm(dataset, algorithm, b0, b1):\n",
    "\ttest_set = list()\n",
    "\tfor row in dataset:\n",
    "\t\trow_copy = list(row)\n",
    "\t\trow_copy[-1] = None\n",
    "\t\ttest_set.append(row_copy)\n",
    "\tpredicted = algorithm(dataset, test_set, b0, b1)\n",
    "\tprint(predicted)\n",
    "\tactual = [row[-1] for row in dataset]\n",
    "\trmse = rmse_metric(actual, predicted)\n",
    "\treturn rmse"
   ]
  },
  {
   "cell_type": "code",
   "execution_count": 18,
   "metadata": {},
   "outputs": [
    {
     "name": "stdout",
     "output_type": "stream",
     "text": [
      "[1.1999999999999995, 1.9999999999999996, 3.5999999999999996, 2.8, 4.3999999999999995]\n",
      "RMSE: 0.693\n"
     ]
    }
   ],
   "source": [
    "# Test simple linear regression\n",
    "rmse = evaluate_algorithm(train, simple_linear_regression, b0, b1)\n",
    "print('RMSE: %.3f' % (rmse))"
   ]
  },
  {
   "cell_type": "markdown",
   "metadata": {},
   "source": [
    "### Linear Regression with Gradient Descent from scratch"
   ]
  },
  {
   "cell_type": "code",
   "execution_count": 19,
   "metadata": {},
   "outputs": [
    {
     "data": {
      "text/plain": [
       "([1, 2, 4, 3, 5], [1, 3, 3, 2, 5])"
      ]
     },
     "execution_count": 19,
     "metadata": {},
     "output_type": "execute_result"
    }
   ],
   "source": [
    "x, y"
   ]
  },
  {
   "cell_type": "code",
   "execution_count": 20,
   "metadata": {},
   "outputs": [],
   "source": [
    "# Convert x list into numpy array\n",
    "import numpy as np\n",
    "X = np.asarray(x, dtype=np.float64)"
   ]
  },
  {
   "cell_type": "code",
   "execution_count": 34,
   "metadata": {
    "scrolled": true
   },
   "outputs": [
    {
     "name": "stdout",
     "output_type": "stream",
     "text": [
      ">epoch=0, lrate=0.001, m=0.020000, c=0.005600\n",
      ">epoch=1, lrate=0.001, m=0.039526, c=0.011069\n",
      ">epoch=2, lrate=0.001, m=0.058590, c=0.016410\n",
      ">epoch=3, lrate=0.001, m=0.077203, c=0.021625\n",
      ">epoch=4, lrate=0.001, m=0.095375, c=0.026719\n",
      ">epoch=5, lrate=0.001, m=0.113116, c=0.031693\n",
      ">epoch=6, lrate=0.001, m=0.130437, c=0.036551\n",
      ">epoch=7, lrate=0.001, m=0.147349, c=0.041295\n",
      ">epoch=8, lrate=0.001, m=0.163859, c=0.045928\n",
      ">epoch=9, lrate=0.001, m=0.179979, c=0.050453\n",
      ">epoch=10, lrate=0.001, m=0.195716, c=0.054873\n",
      ">epoch=11, lrate=0.001, m=0.211081, c=0.059189\n",
      ">epoch=12, lrate=0.001, m=0.226082, c=0.063404\n",
      ">epoch=13, lrate=0.001, m=0.240728, c=0.067520\n",
      ">epoch=14, lrate=0.001, m=0.255027, c=0.071541\n",
      ">epoch=15, lrate=0.001, m=0.268987, c=0.075468\n",
      ">epoch=16, lrate=0.001, m=0.282617, c=0.079303\n",
      ">epoch=17, lrate=0.001, m=0.295923, c=0.083049\n",
      ">epoch=18, lrate=0.001, m=0.308915, c=0.086707\n",
      ">epoch=19, lrate=0.001, m=0.321598, c=0.090280\n",
      ">epoch=20, lrate=0.001, m=0.333982, c=0.093770\n",
      ">epoch=21, lrate=0.001, m=0.346071, c=0.097179\n",
      ">epoch=22, lrate=0.001, m=0.357875, c=0.100508\n",
      ">epoch=23, lrate=0.001, m=0.369398, c=0.103760\n",
      ">epoch=24, lrate=0.001, m=0.380649, c=0.106936\n",
      ">epoch=25, lrate=0.001, m=0.391633, c=0.110038\n",
      ">epoch=26, lrate=0.001, m=0.402357, c=0.113068\n",
      ">epoch=27, lrate=0.001, m=0.412827, c=0.116028\n",
      ">epoch=28, lrate=0.001, m=0.423048, c=0.118919\n",
      ">epoch=29, lrate=0.001, m=0.433028, c=0.121743\n",
      ">epoch=30, lrate=0.001, m=0.442771, c=0.124501\n",
      ">epoch=31, lrate=0.001, m=0.452283, c=0.127195\n",
      ">epoch=32, lrate=0.001, m=0.461569, c=0.129827\n",
      ">epoch=33, lrate=0.001, m=0.470636, c=0.132398\n",
      ">epoch=34, lrate=0.001, m=0.479488, c=0.134909\n",
      ">epoch=35, lrate=0.001, m=0.488129, c=0.137363\n",
      ">epoch=36, lrate=0.001, m=0.496566, c=0.139759\n",
      ">epoch=37, lrate=0.001, m=0.504803, c=0.142100\n",
      ">epoch=38, lrate=0.001, m=0.512845, c=0.144387\n",
      ">epoch=39, lrate=0.001, m=0.520696, c=0.146621\n",
      ">epoch=40, lrate=0.001, m=0.528361, c=0.148804\n",
      ">epoch=41, lrate=0.001, m=0.535844, c=0.150936\n",
      ">epoch=42, lrate=0.001, m=0.543150, c=0.153019\n",
      ">epoch=43, lrate=0.001, m=0.550283, c=0.155054\n",
      ">epoch=44, lrate=0.001, m=0.557246, c=0.157043\n",
      ">epoch=45, lrate=0.001, m=0.564044, c=0.158985\n",
      ">epoch=46, lrate=0.001, m=0.570682, c=0.160883\n",
      ">epoch=47, lrate=0.001, m=0.577161, c=0.162737\n",
      ">epoch=48, lrate=0.001, m=0.583487, c=0.164548\n",
      ">epoch=49, lrate=0.001, m=0.589663, c=0.166318\n",
      ">epoch=50, lrate=0.001, m=0.595693, c=0.168048\n",
      ">epoch=51, lrate=0.001, m=0.601579, c=0.169738\n",
      ">epoch=52, lrate=0.001, m=0.607326, c=0.171389\n",
      ">epoch=53, lrate=0.001, m=0.612937, c=0.173002\n",
      ">epoch=54, lrate=0.001, m=0.618414, c=0.174578\n",
      ">epoch=55, lrate=0.001, m=0.623761, c=0.176119\n",
      ">epoch=56, lrate=0.001, m=0.628982, c=0.177624\n",
      ">epoch=57, lrate=0.001, m=0.634079, c=0.179095\n",
      ">epoch=58, lrate=0.001, m=0.639054, c=0.180532\n",
      ">epoch=59, lrate=0.001, m=0.643912, c=0.181937\n",
      ">epoch=60, lrate=0.001, m=0.648654, c=0.183309\n",
      ">epoch=61, lrate=0.001, m=0.653284, c=0.184651\n",
      ">epoch=62, lrate=0.001, m=0.657804, c=0.185962\n",
      ">epoch=63, lrate=0.001, m=0.662216, c=0.187243\n",
      ">epoch=64, lrate=0.001, m=0.666524, c=0.188495\n",
      ">epoch=65, lrate=0.001, m=0.670730, c=0.189719\n",
      ">epoch=66, lrate=0.001, m=0.674835, c=0.190915\n",
      ">epoch=67, lrate=0.001, m=0.678843, c=0.192084\n",
      ">epoch=68, lrate=0.001, m=0.682756, c=0.193227\n",
      ">epoch=69, lrate=0.001, m=0.686576, c=0.194344\n",
      ">epoch=70, lrate=0.001, m=0.690306, c=0.195436\n",
      ">epoch=71, lrate=0.001, m=0.693946, c=0.196503\n",
      ">epoch=72, lrate=0.001, m=0.697500, c=0.197547\n",
      ">epoch=73, lrate=0.001, m=0.700970, c=0.198567\n",
      ">epoch=74, lrate=0.001, m=0.704357, c=0.199564\n",
      ">epoch=75, lrate=0.001, m=0.707664, c=0.200538\n",
      ">epoch=76, lrate=0.001, m=0.710892, c=0.201491\n",
      ">epoch=77, lrate=0.001, m=0.714044, c=0.202423\n",
      ">epoch=78, lrate=0.001, m=0.717120, c=0.203334\n",
      ">epoch=79, lrate=0.001, m=0.720124, c=0.204224\n",
      ">epoch=80, lrate=0.001, m=0.723056, c=0.205095\n",
      ">epoch=81, lrate=0.001, m=0.725918, c=0.205947\n",
      ">epoch=82, lrate=0.001, m=0.728712, c=0.206779\n",
      ">epoch=83, lrate=0.001, m=0.731440, c=0.207594\n",
      ">epoch=84, lrate=0.001, m=0.734102, c=0.208390\n",
      ">epoch=85, lrate=0.001, m=0.736702, c=0.209168\n",
      ">epoch=86, lrate=0.001, m=0.739239, c=0.209930\n",
      ">epoch=87, lrate=0.001, m=0.741716, c=0.210674\n",
      ">epoch=88, lrate=0.001, m=0.744135, c=0.211403\n",
      ">epoch=89, lrate=0.001, m=0.746495, c=0.212115\n",
      ">epoch=90, lrate=0.001, m=0.748800, c=0.212812\n",
      ">epoch=91, lrate=0.001, m=0.751049, c=0.213494\n",
      ">epoch=92, lrate=0.001, m=0.753245, c=0.214160\n",
      ">epoch=93, lrate=0.001, m=0.755389, c=0.214812\n",
      ">epoch=94, lrate=0.001, m=0.757481, c=0.215451\n",
      ">epoch=95, lrate=0.001, m=0.759524, c=0.216075\n",
      ">epoch=96, lrate=0.001, m=0.761518, c=0.216685\n",
      ">epoch=97, lrate=0.001, m=0.763465, c=0.217283\n",
      ">epoch=98, lrate=0.001, m=0.765365, c=0.217868\n",
      ">epoch=99, lrate=0.001, m=0.767219, c=0.218440\n",
      ">epoch=100, lrate=0.001, m=0.769030, c=0.219000\n",
      ">epoch=101, lrate=0.001, m=0.770797, c=0.219547\n",
      ">epoch=102, lrate=0.001, m=0.772522, c=0.220083\n",
      ">epoch=103, lrate=0.001, m=0.774206, c=0.220608\n",
      ">epoch=104, lrate=0.001, m=0.775850, c=0.221122\n",
      ">epoch=105, lrate=0.001, m=0.777455, c=0.221624\n",
      ">epoch=106, lrate=0.001, m=0.779021, c=0.222116\n",
      ">epoch=107, lrate=0.001, m=0.780550, c=0.222598\n",
      ">epoch=108, lrate=0.001, m=0.782042, c=0.223070\n",
      ">epoch=109, lrate=0.001, m=0.783499, c=0.223531\n",
      ">epoch=110, lrate=0.001, m=0.784921, c=0.223983\n",
      ">epoch=111, lrate=0.001, m=0.786309, c=0.224426\n",
      ">epoch=112, lrate=0.001, m=0.787663, c=0.224859\n",
      ">epoch=113, lrate=0.001, m=0.788986, c=0.225283\n",
      ">epoch=114, lrate=0.001, m=0.790276, c=0.225699\n",
      ">epoch=115, lrate=0.001, m=0.791536, c=0.226106\n",
      ">epoch=116, lrate=0.001, m=0.792765, c=0.226504\n",
      ">epoch=117, lrate=0.001, m=0.793966, c=0.226895\n",
      ">epoch=118, lrate=0.001, m=0.795137, c=0.227277\n",
      ">epoch=119, lrate=0.001, m=0.796280, c=0.227652\n",
      ">epoch=120, lrate=0.001, m=0.797396, c=0.228019\n",
      ">epoch=121, lrate=0.001, m=0.798485, c=0.228378\n",
      ">epoch=122, lrate=0.001, m=0.799548, c=0.228731\n",
      ">epoch=123, lrate=0.001, m=0.800586, c=0.229076\n",
      ">epoch=124, lrate=0.001, m=0.801599, c=0.229414\n",
      ">epoch=125, lrate=0.001, m=0.802587, c=0.229746\n",
      ">epoch=126, lrate=0.001, m=0.803552, c=0.230071\n",
      ">epoch=127, lrate=0.001, m=0.804493, c=0.230389\n",
      ">epoch=128, lrate=0.001, m=0.805412, c=0.230702\n",
      ">epoch=129, lrate=0.001, m=0.806309, c=0.231008\n",
      ">epoch=130, lrate=0.001, m=0.807184, c=0.231308\n",
      ">epoch=131, lrate=0.001, m=0.808038, c=0.231602\n",
      ">epoch=132, lrate=0.001, m=0.808871, c=0.231891\n",
      ">epoch=133, lrate=0.001, m=0.809685, c=0.232174\n",
      ">epoch=134, lrate=0.001, m=0.810479, c=0.232451\n",
      ">epoch=135, lrate=0.001, m=0.811254, c=0.232723\n",
      ">epoch=136, lrate=0.001, m=0.812010, c=0.232990\n",
      ">epoch=137, lrate=0.001, m=0.812747, c=0.233252\n",
      ">epoch=138, lrate=0.001, m=0.813468, c=0.233509\n",
      ">epoch=139, lrate=0.001, m=0.814170, c=0.233762\n",
      ">epoch=140, lrate=0.001, m=0.814856, c=0.234009\n",
      ">epoch=141, lrate=0.001, m=0.815525, c=0.234252\n",
      ">epoch=142, lrate=0.001, m=0.816178, c=0.234490\n",
      ">epoch=143, lrate=0.001, m=0.816815, c=0.234724\n",
      ">epoch=144, lrate=0.001, m=0.817437, c=0.234954\n",
      ">epoch=145, lrate=0.001, m=0.818043, c=0.235179\n",
      ">epoch=146, lrate=0.001, m=0.818635, c=0.235401\n",
      ">epoch=147, lrate=0.001, m=0.819213, c=0.235618\n",
      ">epoch=148, lrate=0.001, m=0.819777, c=0.235832\n",
      ">epoch=149, lrate=0.001, m=0.820327, c=0.236041\n",
      ">epoch=150, lrate=0.001, m=0.820863, c=0.236247\n",
      ">epoch=151, lrate=0.001, m=0.821387, c=0.236450\n",
      ">epoch=152, lrate=0.001, m=0.821897, c=0.236648\n",
      ">epoch=153, lrate=0.001, m=0.822396, c=0.236844\n",
      ">epoch=154, lrate=0.001, m=0.822882, c=0.237036\n",
      ">epoch=155, lrate=0.001, m=0.823356, c=0.237224\n",
      ">epoch=156, lrate=0.001, m=0.823819, c=0.237410\n",
      ">epoch=157, lrate=0.001, m=0.824271, c=0.237592\n",
      ">epoch=158, lrate=0.001, m=0.824711, c=0.237771\n",
      ">epoch=159, lrate=0.001, m=0.825141, c=0.237947\n",
      ">epoch=160, lrate=0.001, m=0.825560, c=0.238121\n",
      ">epoch=161, lrate=0.001, m=0.825969, c=0.238291\n",
      ">epoch=162, lrate=0.001, m=0.826368, c=0.238459\n",
      ">epoch=163, lrate=0.001, m=0.826757, c=0.238623\n",
      ">epoch=164, lrate=0.001, m=0.827137, c=0.238786\n",
      ">epoch=165, lrate=0.001, m=0.827507, c=0.238945\n",
      ">epoch=166, lrate=0.001, m=0.827868, c=0.239102\n",
      ">epoch=167, lrate=0.001, m=0.828221, c=0.239257\n",
      ">epoch=168, lrate=0.001, m=0.828564, c=0.239409\n",
      ">epoch=169, lrate=0.001, m=0.828899, c=0.239559\n",
      "0.8288993060242197 0.2395588421631878\n"
     ]
    }
   ],
   "source": [
    "# Building the model\n",
    "\n",
    "# init coefficients m (=b1) and c (=b0) to 0\n",
    "m = 0\n",
    "c = 0\n",
    "\n",
    "# initialize learning rate L and number of epochs (iterations to perform gradient descent)\n",
    "L = 0.001  #0.01\n",
    "epochs = 170  #3\n",
    "\n",
    "# Number of elements in X\n",
    "n = float(len(x)) \n",
    "\n",
    "# Performing Gradient Descent \n",
    "for i in range(epochs): \n",
    "    #Y_pred =  c + m * row[0]\n",
    "    Y_pred = m*X + c  # The current predicted value of Y\n",
    "    D_m = (-2/n) * sum(x * (y - Y_pred))  # Derivative wrt m\n",
    "    D_c = (-2/n) * sum(y - Y_pred)  # Derivative wrt c\n",
    "    m = m - L * D_m  # Update m\n",
    "    c = c - L * D_c  # Update c\n",
    "    print('>epoch=%d, lrate=%.3f, m=%f, c=%f' % (i, L, m, c))\n",
    "    \n",
    "print (m, c)"
   ]
  },
  {
   "cell_type": "code",
   "execution_count": 35,
   "metadata": {},
   "outputs": [
    {
     "name": "stdout",
     "output_type": "stream",
     "text": [
      "[1.0684581481874074, 1.8973574542116272, 3.5551560662600665, 2.726256760235847, 4.384055372284286]\n"
     ]
    }
   ],
   "source": [
    "# predicts on training set\n",
    "predictions_gd = simple_linear_regression(train, test, c, m)\n",
    "print(predictions_gd)"
   ]
  },
  {
   "cell_type": "code",
   "execution_count": 36,
   "metadata": {},
   "outputs": [
    {
     "data": {
      "text/plain": [
       "[<matplotlib.lines.Line2D at 0x7f88090afac0>]"
      ]
     },
     "execution_count": 36,
     "metadata": {},
     "output_type": "execute_result"
    },
    {
     "data": {
      "image/png": "[encoded data removed]",
      "text/plain": [
       "<Figure size 432x288 with 1 Axes>"
      ]
     },
     "metadata": {
      "needs_background": "light"
     },
     "output_type": "display_data"
    }
   ],
   "source": [
    "# plot train datapoints\n",
    "plt.plot(x, y, 'bo')\n",
    "\n",
    "# plot predictions datapoints\n",
    "plt.plot(x, predictions_gd, 'bx')\n",
    "\n",
    "# plot the simple regrssion line with coefficients b0 and b1\n",
    "x_values = [i for i in range(int(min(x))-1, int(max(x))+2)]\n",
    "y_values = [(b1*x + b0) for x in x_values]\n",
    "plt.plot(x_values, y_values, 'r')\n",
    "\n",
    "# plot the gradient decent regrssion line with coefficients c and m - black line\n",
    "x_values = [i for i in range(int(min(x))-1, int(max(x))+2)]\n",
    "y_values = [(m*x + c) for x in x_values]\n",
    "plt.plot(x_values, y_values, 'black')"
   ]
  },
  {
   "cell_type": "code",
   "execution_count": 37,
   "metadata": {},
   "outputs": [
    {
     "name": "stdout",
     "output_type": "stream",
     "text": [
      "[1.0684581481874074, 1.8973574542116272, 3.5551560662600665, 2.726256760235847, 4.384055372284286]\n",
      "RMSE: 0.698\n"
     ]
    }
   ],
   "source": [
    "# Test simple linear regression\n",
    "rmse = evaluate_algorithm(train, simple_linear_regression, c, m)\n",
    "print('RMSE: %.3f' % (rmse))"
   ]
  },
  {
   "cell_type": "markdown",
   "metadata": {},
   "source": [
    "#### Ref 1 : https://machinelearningmastery.com/implement-simple-linear-regression-scratch-python/\n",
    "#### Ref 2 : https://machinelearningmastery.com/implement-linear-regression-stochastic-gradient-descent-scratch-python/\n",
    "#### Ref 3 : https://towardsdatascience.com/linear-regression-using-gradient-descent-97a6c8700931"
   ]
  }
 ],
 "metadata": {
  "kernelspec": {
   "display_name": "Python 3",
   "language": "python",
   "name": "python3"
  },
  "language_info": {
   "codemirror_mode": {
    "name": "ipython",
    "version": 3
   },
   "file_extension": ".py",
   "mimetype": "text/x-python",
   "name": "python",
   "nbconvert_exporter": "python",
   "pygments_lexer": "ipython3",
   "version": "3.8.1"
  }
 },
 "nbformat": 4,
 "nbformat_minor": 4
}
